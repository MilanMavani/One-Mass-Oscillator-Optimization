{
 "cells": [
  {
   "cell_type": "code",
   "execution_count": 1,
   "metadata": {
    "execution": {
     "iopub.execute_input": "2024-05-27T20:44:55.899026Z",
     "iopub.status.busy": "2024-05-27T20:44:55.898807Z",
     "iopub.status.idle": "2024-05-27T20:44:56.811937Z",
     "shell.execute_reply": "2024-05-27T20:44:56.811193Z",
     "shell.execute_reply.started": "2024-05-27T20:44:55.899003Z"
    },
    "tags": []
   },
   "outputs": [],
   "source": [
    "import numpy as np\n",
    "import warnings\n",
    "import pandas as pd\n",
    "import matplotlib.pyplot as plt\n",
    "from scipy.optimize import minimize\n",
    "from scipy.optimize import differential_evolution,shgo,dual_annealing, basinhopping,direct\n",
    "seed = 123"
   ]
  },
  {
   "cell_type": "markdown",
   "metadata": {
    "tags": [],
    "toc-hr-collapsed": true
   },
   "source": [
    "# Project: One-Mass Oscillator Optimization\n",
    "\n",
    "## Introduction\n",
    "\n",
    "In this project, you will apply various optimization algorithms to fit a one-mass oscillator model to real-world data. The objective is to minimize the sum of the squared residuals between the model predictions and the observed amplitudes of a one-mass oscillator system across different frequencies.\n",
    "\n",
    "### One-Mass Oscillator Model\n",
    "\n",
    "The one-mass oscillator is characterized by the following equation, representing the amplitudes of the system:\n",
    "\n",
    "$$ V(\\omega) = \\frac{F}{\\sqrt{(1 - \\nu^2)^2 + 4D^2\\nu^2}} $$\n",
    "\n",
    "Here, \n",
    "- $ \\omega $ represents the angular frequency of the system,\n",
    "- $ \\nu $ is the ratio of the excitation frequency to the natural frequency ($ \\nu = \\frac{\\omega_{\\text{err}}}{\\omega_{\\text{eig}}} $),\n",
    "- $ D $ is the damping ratio,\n",
    "- $ F $ is the force applied to the system.\n",
    "\n",
    "The goal of the project is to determine the optimal values for the parameters $ \\omega_{\\text{eig}} $, $ D $, and $ F $ that result in the best fit of the one-mass oscillator model to the observed amplitudes.\n"
   ]
  },
  {
   "cell_type": "markdown",
   "metadata": {},
   "source": [
    "### Load the real world data\n",
    "\n",
    "- we have two different measurements\n",
    "- J represents the measured frequencies\n",
    "- N represents the measured amplitudes"
   ]
  },
  {
   "cell_type": "code",
   "execution_count": 2,
   "metadata": {
    "execution": {
     "iopub.execute_input": "2024-05-27T20:44:56.816789Z",
     "iopub.status.busy": "2024-05-27T20:44:56.815192Z",
     "iopub.status.idle": "2024-05-27T20:44:56.824290Z",
     "shell.execute_reply": "2024-05-27T20:44:56.823762Z",
     "shell.execute_reply.started": "2024-05-27T20:44:56.816766Z"
    },
    "tags": []
   },
   "outputs": [
    {
     "name": "stdout",
     "output_type": "stream",
     "text": [
      "Length of df1: 33\n",
      "Length of df2: 66\n"
     ]
    }
   ],
   "source": [
    "df1 = pd.read_pickle(\"df1.pkl\")\n",
    "df2 = pd.read_pickle(\"df2.pkl\")\n",
    "# Printing the lengths of the DataFrames\n",
    "print(\"Length of df1:\", len(df1))\n",
    "print(\"Length of df2:\", len(df2))"
   ]
  },
  {
   "cell_type": "markdown",
   "metadata": {
    "tags": []
   },
   "source": [
    "### Low amplitudes distort the fit and are negligible therefore we define a lower threshold for N"
   ]
  },
  {
   "cell_type": "code",
   "execution_count": 3,
   "metadata": {
    "execution": {
     "iopub.execute_input": "2024-05-27T20:44:56.828562Z",
     "iopub.status.busy": "2024-05-27T20:44:56.827053Z",
     "iopub.status.idle": "2024-05-27T20:44:56.836311Z",
     "shell.execute_reply": "2024-05-27T20:44:56.835827Z",
     "shell.execute_reply.started": "2024-05-27T20:44:56.828541Z"
    },
    "tags": []
   },
   "outputs": [
    {
     "name": "stdout",
     "output_type": "stream",
     "text": [
      "Length of df1: 31\n",
      "Length of df2: 66\n"
     ]
    }
   ],
   "source": [
    "threshold = 0.4\n",
    "df1.sort_values(\"N\")\n",
    "max_N = max(df1[\"N\"])\n",
    "df1 = df1[df1[\"N\"]>=threshold*max_N]\n",
    "\n",
    "# checking the lengths of the DataFrames again \n",
    "print(\"Length of df1:\", len(df1))\n",
    "print(\"Length of df2:\", len(df2))"
   ]
  },
  {
   "cell_type": "markdown",
   "metadata": {},
   "source": [
    "### We extract the frequency value for maximum value of the amplitude. This serves as the initial value for one decision variable."
   ]
  },
  {
   "cell_type": "code",
   "execution_count": 4,
   "metadata": {
    "execution": {
     "iopub.execute_input": "2024-05-27T20:44:56.841132Z",
     "iopub.status.busy": "2024-05-27T20:44:56.839507Z",
     "iopub.status.idle": "2024-05-27T20:44:56.845990Z",
     "shell.execute_reply": "2024-05-27T20:44:56.845420Z",
     "shell.execute_reply.started": "2024-05-27T20:44:56.841111Z"
    },
    "tags": []
   },
   "outputs": [],
   "source": [
    "df_max=df1[df1[\"N\"]==max(df1[\"N\"])]\n",
    "initial_Oeig = df_max[\"J\"].values[0]\n",
    "max_N = df_max[\"N\"].values[0]"
   ]
  },
  {
   "cell_type": "markdown",
   "metadata": {},
   "source": [
    "### We also have to define the other two initial guesses"
   ]
  },
  {
   "cell_type": "code",
   "execution_count": 5,
   "metadata": {
    "execution": {
     "iopub.execute_input": "2024-05-27T20:44:56.850226Z",
     "iopub.status.busy": "2024-05-27T20:44:56.848621Z",
     "iopub.status.idle": "2024-05-27T20:44:56.854343Z",
     "shell.execute_reply": "2024-05-27T20:44:56.853435Z",
     "shell.execute_reply.started": "2024-05-27T20:44:56.850204Z"
    },
    "tags": []
   },
   "outputs": [],
   "source": [
    "initial_D = 0.006\n",
    "initial_F = 0.120\n",
    "\n",
    "initial_values = [initial_Oeig, initial_D, initial_F]"
   ]
  },
  {
   "cell_type": "markdown",
   "metadata": {},
   "source": [
    "### Additionally we define the bounds for the decision variables\n",
    "\n"
   ]
  },
  {
   "cell_type": "code",
   "execution_count": 6,
   "metadata": {
    "execution": {
     "iopub.execute_input": "2024-05-27T20:44:56.858648Z",
     "iopub.status.busy": "2024-05-27T20:44:56.857121Z",
     "iopub.status.idle": "2024-05-27T20:44:56.862585Z",
     "shell.execute_reply": "2024-05-27T20:44:56.861854Z",
     "shell.execute_reply.started": "2024-05-27T20:44:56.858627Z"
    },
    "tags": []
   },
   "outputs": [],
   "source": [
    "min_Oerr = min(df1[\"J\"])\n",
    "max_Oerr = max(df1[\"J\"])"
   ]
  },
  {
   "cell_type": "code",
   "execution_count": 7,
   "metadata": {
    "execution": {
     "iopub.execute_input": "2024-05-27T20:44:56.867109Z",
     "iopub.status.busy": "2024-05-27T20:44:56.865491Z",
     "iopub.status.idle": "2024-05-27T20:44:56.871061Z",
     "shell.execute_reply": "2024-05-27T20:44:56.870310Z",
     "shell.execute_reply.started": "2024-05-27T20:44:56.867088Z"
    },
    "tags": []
   },
   "outputs": [],
   "source": [
    "bounds = [(min_Oerr, max_Oerr), (0, 0.03), (0, 1)]"
   ]
  },
  {
   "cell_type": "markdown",
   "metadata": {},
   "source": [
    "### Then we define the objective function"
   ]
  },
  {
   "cell_type": "code",
   "execution_count": 8,
   "metadata": {
    "execution": {
     "iopub.execute_input": "2024-05-27T20:44:56.875316Z",
     "iopub.status.busy": "2024-05-27T20:44:56.873712Z",
     "iopub.status.idle": "2024-05-27T20:44:56.879761Z",
     "shell.execute_reply": "2024-05-27T20:44:56.878953Z",
     "shell.execute_reply.started": "2024-05-27T20:44:56.875294Z"
    },
    "tags": []
   },
   "outputs": [],
   "source": [
    "def one_mass_oscillator(params, Oerr) -> np.ndarray:\n",
    "    # returns amplitudes of the system\n",
    "    # Defines the model of a one mass oscilator \n",
    "    Oeig, D, F = params\n",
    "    nue = Oerr / Oeig\n",
    "    V = F / (np.sqrt((1 - nue**2) ** 2 + (4 * D**2 * nue**2)))\n",
    "    return V"
   ]
  },
  {
   "cell_type": "code",
   "execution_count": 9,
   "metadata": {
    "execution": {
     "iopub.execute_input": "2024-05-27T20:44:56.884240Z",
     "iopub.status.busy": "2024-05-27T20:44:56.882617Z",
     "iopub.status.idle": "2024-05-27T20:44:56.888600Z",
     "shell.execute_reply": "2024-05-27T20:44:56.887785Z",
     "shell.execute_reply.started": "2024-05-27T20:44:56.884219Z"
    },
    "tags": []
   },
   "outputs": [],
   "source": [
    "def objective_function(params, Oerr, amplitudes) -> np.ndarray:\n",
    "    # objective function to compare calculated and real amplitudes\n",
    "    return np.sum((amplitudes - one_mass_oscillator(params, Oerr)) ** 2)\n",
    "\n",
    "#one_mass_oscillator function: This is a function that should be replaced with actual model for calculating amplitudes. \n",
    "#objective_function function: This computes the sum of squared differences between the real amplitudes (amplitudes) and the calculated amplitudes from the one_mass_oscillator function."
   ]
  },
  {
   "cell_type": "markdown",
   "metadata": {},
   "source": [
    "### We define the options and start the optimization process"
   ]
  },
  {
   "cell_type": "code",
   "execution_count": 10,
   "metadata": {
    "execution": {
     "iopub.execute_input": "2024-05-27T20:44:56.894628Z",
     "iopub.status.busy": "2024-05-27T20:44:56.893062Z",
     "iopub.status.idle": "2024-05-27T20:44:56.898883Z",
     "shell.execute_reply": "2024-05-27T20:44:56.898004Z",
     "shell.execute_reply.started": "2024-05-27T20:44:56.894608Z"
    },
    "tags": []
   },
   "outputs": [],
   "source": [
    "options = {\n",
    "    \"maxfun\": 100000, #Maximum Function Evaluation\n",
    "    \"ftol\": 1e-9,     # Function Tolerance\n",
    "    \"xtol\": 1e-9,     #Variable Tolerance\n",
    "    \"stepmx\": 10,     #Controls Maximum Step size\n",
    "    \"eta\": 0.25,      #Controls relative Step Size\n",
    "    \"gtol\": 1e-5}     #Gradient Tolerance\n"
   ]
  },
  {
   "cell_type": "code",
   "execution_count": 11,
   "metadata": {
    "execution": {
     "iopub.execute_input": "2024-05-27T20:44:56.903445Z",
     "iopub.status.busy": "2024-05-27T20:44:56.901895Z",
     "iopub.status.idle": "2024-05-27T20:44:56.907556Z",
     "shell.execute_reply": "2024-05-27T20:44:56.906975Z",
     "shell.execute_reply.started": "2024-05-27T20:44:56.903425Z"
    },
    "tags": []
   },
   "outputs": [],
   "source": [
    "J = np.array(df1[\"J\"]) # measured frequency\n",
    "N = np.array(df1[\"N\"]) # measured amplitude"
   ]
  },
  {
   "cell_type": "code",
   "execution_count": 12,
   "metadata": {
    "execution": {
     "iopub.execute_input": "2024-05-27T20:44:56.911801Z",
     "iopub.status.busy": "2024-05-27T20:44:56.910237Z",
     "iopub.status.idle": "2024-05-27T20:44:56.926512Z",
     "shell.execute_reply": "2024-05-27T20:44:56.926065Z",
     "shell.execute_reply.started": "2024-05-27T20:44:56.911778Z"
    },
    "tags": []
   },
   "outputs": [
    {
     "name": "stderr",
     "output_type": "stream",
     "text": [
      "/tmp/ipykernel_1193528/2959858538.py:1: OptimizeWarning: Unknown solver options: maxfun, ftol, xtol, stepmx, eta, gtol\n",
      "  result = minimize(\n"
     ]
    }
   ],
   "source": [
    "result = minimize(\n",
    "    objective_function,\n",
    "    initial_values,\n",
    "    args=(J, N),\n",
    "    method='Nelder-Mead',\n",
    "    bounds=bounds,\n",
    "    options=options)\n"
   ]
  },
  {
   "cell_type": "markdown",
   "metadata": {},
   "source": [
    "### Then we can observe the results"
   ]
  },
  {
   "cell_type": "code",
   "execution_count": 13,
   "metadata": {
    "execution": {
     "iopub.execute_input": "2024-05-27T20:44:56.930626Z",
     "iopub.status.busy": "2024-05-27T20:44:56.929103Z",
     "iopub.status.idle": "2024-05-27T20:44:56.935338Z",
     "shell.execute_reply": "2024-05-27T20:44:56.934650Z",
     "shell.execute_reply.started": "2024-05-27T20:44:56.930605Z"
    },
    "tags": []
   },
   "outputs": [],
   "source": [
    "\n",
    "# map optimized values to variables\n",
    "resonant_frequency = result.x[0]\n",
    "D = result.x[1]\n",
    "F = result.x[2]\n",
    "# predict the resonant amplitude with the fitted one mass oscillator.\n",
    "X_pred = np.linspace(min_Oerr, max_Oerr, 1000)\n",
    "ypred_one_mass_oscillator = one_mass_oscillator(result.x, X_pred)\n",
    "resonant_amplitude = max(ypred_one_mass_oscillator)\n"
   ]
  },
  {
   "cell_type": "code",
   "execution_count": 14,
   "metadata": {
    "execution": {
     "iopub.execute_input": "2024-05-27T20:44:56.939692Z",
     "iopub.status.busy": "2024-05-27T20:44:56.938127Z",
     "iopub.status.idle": "2024-05-27T20:44:56.948511Z",
     "shell.execute_reply": "2024-05-27T20:44:56.948037Z",
     "shell.execute_reply.started": "2024-05-27T20:44:56.939647Z"
    },
    "tags": []
   },
   "outputs": [
    {
     "data": {
      "text/plain": [
       "       message: Optimization terminated successfully.\n",
       "       success: True\n",
       "        status: 0\n",
       "           fun: 53.54144061205875\n",
       "             x: [ 8.148e+03  7.435e-04  2.153e-02]\n",
       "           nit: 93\n",
       "          nfev: 169\n",
       " final_simplex: (array([[ 8.148e+03,  7.435e-04,  2.153e-02],\n",
       "                       [ 8.148e+03,  7.435e-04,  2.153e-02],\n",
       "                       [ 8.148e+03,  7.435e-04,  2.153e-02],\n",
       "                       [ 8.148e+03,  7.435e-04,  2.153e-02]]), array([ 5.354e+01,  5.354e+01,  5.354e+01,  5.354e+01]))"
      ]
     },
     "execution_count": 14,
     "metadata": {},
     "output_type": "execute_result"
    }
   ],
   "source": [
    "result"
   ]
  },
  {
   "cell_type": "markdown",
   "metadata": {},
   "source": [
    "### Finally, we can plot the optimized fit and the real values"
   ]
  },
  {
   "cell_type": "code",
   "execution_count": 15,
   "metadata": {
    "execution": {
     "iopub.execute_input": "2024-05-27T20:44:56.952578Z",
     "iopub.status.busy": "2024-05-27T20:44:56.951108Z",
     "iopub.status.idle": "2024-05-27T20:44:57.164611Z",
     "shell.execute_reply": "2024-05-27T20:44:57.164026Z",
     "shell.execute_reply.started": "2024-05-27T20:44:56.952557Z"
    },
    "tags": []
   },
   "outputs": [
    {
     "data": {
      "text/plain": [
       "<matplotlib.collections.PathCollection at 0x14a9653ce390>"
      ]
     },
     "execution_count": 15,
     "metadata": {},
     "output_type": "execute_result"
    },
    {
     "data": {
      "image/png": "[encoded data removed]",
      "text/plain": [
       "<Figure size 640x480 with 1 Axes>"
      ]
     },
     "metadata": {},
     "output_type": "display_data"
    }
   ],
   "source": [
    "plt.scatter(\n",
    "    df1[\"J\"],\n",
    "    df1[\"N\"],\n",
    "    color=\"black\",\n",
    "    label=\"Spektralpunkte filtered\",\n",
    "    zorder=5,\n",
    "    s=10,\n",
    ")\n",
    "# color the max amplitude point red\n",
    "plt.scatter(\n",
    "    initial_Oeig,\n",
    "    max_N,\n",
    "    color=\"red\",\n",
    "    label=\"Max Amplitude\",\n",
    "    zorder=5,\n",
    "    s=10,\n",
    ")\n",
    "\n",
    "plt.plot(\n",
    "        X_pred,\n",
    "        ypred_one_mass_oscillator,\n",
    "        label=\"Alpha\",\n",
    "        color=\"blue\",\n",
    "        linewidth=1,\n",
    "    )\n",
    "plt.scatter(\n",
    "    resonant_frequency,\n",
    "    resonant_amplitude,\n",
    "    color=\"blue\",\n",
    "    label=\"Max Curve Fit\",\n",
    "    zorder=10,\n",
    "    s=20,\n",
    ")\n"
   ]
  },
  {
   "cell_type": "markdown",
   "metadata": {},
   "source": [
    "# Task for the Project Work\n"
   ]
  },
  {
   "cell_type": "markdown",
   "metadata": {
    "tags": []
   },
   "source": [
    "## Optimization of First Data Frame "
   ]
  },
  {
   "cell_type": "markdown",
   "metadata": {
    "tags": []
   },
   "source": [
    "### Using Global Optimizers"
   ]
  },
  {
   "cell_type": "markdown",
   "metadata": {},
   "source": [
    "#### Using Dual Annealing"
   ]
  },
  {
   "cell_type": "code",
   "execution_count": 16,
   "metadata": {
    "execution": {
     "iopub.execute_input": "2024-05-27T20:44:57.168592Z",
     "iopub.status.busy": "2024-05-27T20:44:57.167099Z",
     "iopub.status.idle": "2024-05-27T20:44:57.855972Z",
     "shell.execute_reply": "2024-05-27T20:44:57.855259Z",
     "shell.execute_reply.started": "2024-05-27T20:44:57.168572Z"
    },
    "tags": []
   },
   "outputs": [
    {
     "name": "stderr",
     "output_type": "stream",
     "text": [
      "/tmp/ipykernel_1193528/2542982551.py:6: RuntimeWarning: invalid value encountered in divide\n",
      "  V = F / (np.sqrt((1 - nue**2) ** 2 + (4 * D**2 * nue**2)))\n",
      "/tmp/ipykernel_1193528/2542982551.py:6: RuntimeWarning: divide by zero encountered in divide\n",
      "  V = F / (np.sqrt((1 - nue**2) ** 2 + (4 * D**2 * nue**2)))\n",
      "/global/mambaforge/envs/py311-pyspotseven/lib/python3.11/site-packages/scipy/optimize/_numdiff.py:590: RuntimeWarning: invalid value encountered in subtract\n",
      "  df = fun(x) - f0\n"
     ]
    },
    {
     "data": {
      "image/png": "[encoded data removed]",
      "text/plain": [
       "<Figure size 640x480 with 1 Axes>"
      ]
     },
     "metadata": {},
     "output_type": "display_data"
    },
    {
     "name": "stdout",
     "output_type": "stream",
     "text": [
      "Optimized Parameters:\n",
      "Resonant Frequency: 8148.45804766124\n",
      "Damping Coefficient: 0.0007434644794704813\n",
      "Force Amplitude: 0.02152990400035095\n",
      "Resonant Amplitude: 14.479437222571885\n",
      "Objective Function Value: 53.54144153462606\n"
     ]
    },
    {
     "data": {
      "text/plain": [
       " message: ['Maximum number of iteration reached']\n",
       " success: True\n",
       "  status: 0\n",
       "     fun: 53.54144153462606\n",
       "       x: [ 8.148e+03  7.434e-04  2.153e-02]\n",
       "     nit: 1000\n",
       "    nfev: 6437\n",
       "    njev: 109\n",
       "    nhev: 0"
      ]
     },
     "execution_count": 16,
     "metadata": {},
     "output_type": "execute_result"
    }
   ],
   "source": [
    "result = dual_annealing(\n",
    "    objective_function,\n",
    "    bounds=bounds,\n",
    "    args=(J, N),\n",
    "    maxiter=1000,  # Maximum number of iterations\n",
    "    seed=123,  # Seed for reproducibility\n",
    ")\n",
    "\n",
    "# Plotting\n",
    "plt.scatter(\n",
    "    df1[\"J\"],\n",
    "    df1[\"N\"],\n",
    "    color=\"black\",\n",
    "    label=\"Filtered Spectral Points\",\n",
    "    zorder=5,\n",
    "    s=10,\n",
    ")\n",
    "# color the max amplitude point red\n",
    "plt.scatter(\n",
    "    initial_Oeig,\n",
    "    max_N,\n",
    "    color=\"red\",\n",
    "    label=\"Max Amplitude\",\n",
    "    zorder=5,\n",
    "    s=10,\n",
    ")\n",
    "\n",
    "plt.plot(\n",
    "    X_pred,\n",
    "    ypred_one_mass_oscillator,\n",
    "    label=\"Alpha\",\n",
    "    color=\"blue\",\n",
    "    linewidth=1,\n",
    ")\n",
    "plt.scatter(\n",
    "    resonant_frequency,\n",
    "    resonant_amplitude,\n",
    "    color=\"blue\",\n",
    "    label=\"Max Curve Fit\",\n",
    "    zorder=10,\n",
    "    s=20,\n",
    ")\n",
    "\n",
    "plt.legend()\n",
    "plt.xlabel(\"Frequency\")\n",
    "plt.ylabel(\"Amplitude\")\n",
    "plt.title(\"Dual Annealing Optimization\")\n",
    "plt.show()\n",
    "\n",
    "print(\"Optimized Parameters:\")\n",
    "print(f\"Resonant Frequency: {resonant_frequency}\")\n",
    "print(f\"Damping Coefficient: {D}\")\n",
    "print(f\"Force Amplitude: {F}\")\n",
    "print(f\"Resonant Amplitude: {resonant_amplitude}\")\n",
    "print(f\"Objective Function Value: {result.fun}\")\n",
    "result"
   ]
  },
  {
   "cell_type": "markdown",
   "metadata": {
    "execution": {
     "iopub.execute_input": "2024-04-06T00:03:33.627784Z",
     "iopub.status.busy": "2024-04-06T00:03:33.627463Z",
     "iopub.status.idle": "2024-04-06T00:03:33.631306Z",
     "shell.execute_reply": "2024-04-06T00:03:33.630463Z",
     "shell.execute_reply.started": "2024-04-06T00:03:33.627758Z"
    },
    "tags": []
   },
   "source": [
    "#### Using Differencial Evolution"
   ]
  },
  {
   "cell_type": "code",
   "execution_count": 17,
   "metadata": {
    "execution": {
     "iopub.execute_input": "2024-05-27T20:44:57.859957Z",
     "iopub.status.busy": "2024-05-27T20:44:57.858495Z",
     "iopub.status.idle": "2024-05-27T20:44:58.354863Z",
     "shell.execute_reply": "2024-05-27T20:44:58.354406Z",
     "shell.execute_reply.started": "2024-05-27T20:44:57.859936Z"
    },
    "tags": []
   },
   "outputs": [
    {
     "data": {
      "image/png": "[encoded data removed]",
      "text/plain": [
       "<Figure size 640x480 with 1 Axes>"
      ]
     },
     "metadata": {},
     "output_type": "display_data"
    },
    {
     "name": "stdout",
     "output_type": "stream",
     "text": [
      "Optimized Parameters:\n",
      "Resonant Frequency: 8148.45804766124\n",
      "Damping Coefficient: 0.0007434644794704813\n",
      "Force Amplitude: 0.02152990400035095\n",
      "Resonant Amplitude: 14.479437222571885\n",
      "Objective Function Value: 53.56531877262423\n"
     ]
    },
    {
     "data": {
      "text/plain": [
       "             message: Optimization terminated successfully.\n",
       "             success: True\n",
       "                 fun: 53.56531877262423\n",
       "                   x: [ 8.148e+03  7.435e-04  2.153e-02]\n",
       "                 nit: 43\n",
       "                nfev: 2012\n",
       "          population: [[ 8.148e+03  7.456e-04  2.155e-02]\n",
       "                       [ 8.148e+03  7.444e-04  2.149e-02]\n",
       "                       ...\n",
       "                       [ 8.148e+03  7.573e-04  2.184e-02]\n",
       "                       [ 8.148e+03  7.644e-04  2.199e-02]]\n",
       " population_energies: [ 5.357e+01  5.371e+01 ...  5.377e+01  5.373e+01]\n",
       "                 jac: [-1.305e+00  6.588e-01  1.656e+00]"
      ]
     },
     "execution_count": 17,
     "metadata": {},
     "output_type": "execute_result"
    }
   ],
   "source": [
    "result = differential_evolution(\n",
    "    objective_function,\n",
    "    bounds=bounds,  # Define bounds for each parameter\n",
    "    args=(J, N),\n",
    "    maxiter=1000,  # Maximum number of iterations\n",
    "    seed=123,  # Seed for reproducibility\n",
    ")\n",
    "\n",
    "# Plotting\n",
    "plt.scatter(\n",
    "    df1[\"J\"],\n",
    "    df1[\"N\"],\n",
    "    color=\"black\",\n",
    "    label=\"Filtered Spectral point\",\n",
    "    zorder=5,\n",
    "    s=10,\n",
    ")\n",
    "# color the max amplitude point red\n",
    "plt.scatter(\n",
    "    initial_Oeig,\n",
    "    max_N,\n",
    "    color=\"red\",\n",
    "    label=\"Max Amplitude\",\n",
    "    zorder=5,\n",
    "    s=10,\n",
    ")\n",
    "\n",
    "plt.plot(\n",
    "    X_pred,\n",
    "    ypred_one_mass_oscillator,\n",
    "    label=\"Alpha\",\n",
    "    color=\"blue\",\n",
    "    linewidth=1,\n",
    ")\n",
    "plt.scatter(\n",
    "    resonant_frequency,\n",
    "    resonant_amplitude,\n",
    "    color=\"blue\",\n",
    "    label=\"Max Curve Fit\",\n",
    "    zorder=10,\n",
    "    s=20,\n",
    ")\n",
    "\n",
    "plt.legend()\n",
    "plt.xlabel(\"Frequency\")\n",
    "plt.ylabel(\"Amplitude\")\n",
    "plt.title(\"Differential Evolution Optimization\")\n",
    "plt.show()\n",
    "\n",
    "print(\"Optimized Parameters:\")\n",
    "print(f\"Resonant Frequency: {resonant_frequency}\")\n",
    "print(f\"Damping Coefficient: {D}\")\n",
    "print(f\"Force Amplitude: {F}\")\n",
    "print(f\"Resonant Amplitude: {resonant_amplitude}\")\n",
    "print(f\"Objective Function Value: {result.fun}\")\n",
    "result"
   ]
  },
  {
   "cell_type": "markdown",
   "metadata": {
    "execution": {
     "iopub.execute_input": "2024-04-06T12:20:03.717280Z",
     "iopub.status.busy": "2024-04-06T12:20:03.717034Z",
     "iopub.status.idle": "2024-04-06T12:20:03.720651Z",
     "shell.execute_reply": "2024-04-06T12:20:03.719737Z",
     "shell.execute_reply.started": "2024-04-06T12:20:03.717257Z"
    },
    "tags": []
   },
   "source": [
    "### Using Local Optimizers"
   ]
  },
  {
   "cell_type": "markdown",
   "metadata": {
    "execution": {
     "iopub.execute_input": "2024-04-06T12:25:41.630987Z",
     "iopub.status.busy": "2024-04-06T12:25:41.630744Z",
     "iopub.status.idle": "2024-04-06T12:25:41.636334Z",
     "shell.execute_reply": "2024-04-06T12:25:41.635305Z",
     "shell.execute_reply.started": "2024-04-06T12:25:41.630964Z"
    },
    "tags": []
   },
   "source": [
    "#### Using BFGS"
   ]
  },
  {
   "cell_type": "code",
   "execution_count": 18,
   "metadata": {
    "execution": {
     "iopub.execute_input": "2024-05-27T20:44:58.358851Z",
     "iopub.status.busy": "2024-05-27T20:44:58.357395Z",
     "iopub.status.idle": "2024-05-27T20:44:58.643035Z",
     "shell.execute_reply": "2024-05-27T20:44:58.642586Z",
     "shell.execute_reply.started": "2024-05-27T20:44:58.358831Z"
    },
    "tags": []
   },
   "outputs": [
    {
     "name": "stderr",
     "output_type": "stream",
     "text": [
      "/tmp/ipykernel_1193528/996043608.py:1: OptimizeWarning: Unknown solver options: xtol, stepmx, eta\n",
      "  result = minimize(\n"
     ]
    },
    {
     "data": {
      "image/png": "[encoded data removed]",
      "text/plain": [
       "<Figure size 640x480 with 1 Axes>"
      ]
     },
     "metadata": {},
     "output_type": "display_data"
    },
    {
     "name": "stdout",
     "output_type": "stream",
     "text": [
      "Optimized Parameters:\n",
      "Resonant Frequency: 8148.45804766124\n",
      "Damping Coefficient: 0.0007434644794704813\n",
      "Force Amplitude: 0.02152990400035095\n",
      "Resonant Amplitude: 14.479437222571885\n",
      "Objective Function Value: 53.54144117175894\n"
     ]
    },
    {
     "data": {
      "text/plain": [
       "  message: CONVERGENCE: REL_REDUCTION_OF_F_<=_FACTR*EPSMCH\n",
       "  success: True\n",
       "   status: 0\n",
       "      fun: 53.54144117175894\n",
       "        x: [ 8.148e+03  7.434e-04  2.153e-02]\n",
       "      nit: 28\n",
       "      jac: [ 1.419e-03  1.073e+01 -1.476e-01]\n",
       "     nfev: 188\n",
       "     njev: 47\n",
       " hess_inv: <3x3 LbfgsInvHessProduct with dtype=float64>"
      ]
     },
     "execution_count": 18,
     "metadata": {},
     "output_type": "execute_result"
    }
   ],
   "source": [
    "result = minimize(\n",
    "    objective_function,\n",
    "    initial_values,\n",
    "    args=(J, N),\n",
    "    method='L-BFGS-B',\n",
    "    bounds=bounds,\n",
    "    options=options)\n",
    "result\n",
    "# Plotting\n",
    "plt.scatter(\n",
    "    df1[\"J\"],\n",
    "    df1[\"N\"],\n",
    "    color=\"black\",\n",
    "    label=\"Spektralpunkte filtered\",\n",
    "    zorder=5,\n",
    "    s=10,\n",
    ")\n",
    "# color the max amplitude point red\n",
    "plt.scatter(\n",
    "    initial_Oeig,\n",
    "    max_N,\n",
    "    color=\"red\",\n",
    "    label=\"Max Amplitude\",\n",
    "    zorder=5,\n",
    "    s=10,\n",
    ")\n",
    "\n",
    "plt.plot(\n",
    "    X_pred,\n",
    "    ypred_one_mass_oscillator,\n",
    "    label=\"Alpha\",\n",
    "    color=\"blue\",\n",
    "    linewidth=1,\n",
    ")\n",
    "plt.scatter(\n",
    "    resonant_frequency,\n",
    "    resonant_amplitude,\n",
    "    color=\"blue\",\n",
    "    label=\"Max Curve Fit\",\n",
    "    zorder=10,\n",
    "    s=20,\n",
    ")\n",
    "\n",
    "plt.legend()\n",
    "plt.xlabel(\"Frequency\")\n",
    "plt.ylabel(\"Amplitude\")\n",
    "plt.title(\"BFGS Optimization\")\n",
    "plt.show()\n",
    "\n",
    "print(\"Optimized Parameters:\")\n",
    "print(f\"Resonant Frequency: {resonant_frequency}\")\n",
    "print(f\"Damping Coefficient: {D}\")\n",
    "print(f\"Force Amplitude: {F}\")\n",
    "print(f\"Resonant Amplitude: {resonant_amplitude}\")\n",
    "print(f\"Objective Function Value: {result.fun}\")\n",
    "result\n"
   ]
  },
  {
   "cell_type": "markdown",
   "metadata": {
    "execution": {
     "iopub.execute_input": "2024-05-19T17:46:31.951205Z",
     "iopub.status.busy": "2024-05-19T17:46:31.951029Z",
     "iopub.status.idle": "2024-05-19T17:46:31.960595Z",
     "shell.execute_reply": "2024-05-19T17:46:31.959547Z",
     "shell.execute_reply.started": "2024-05-19T17:46:31.951186Z"
    },
    "tags": []
   },
   "source": [
    "### Comparision of different Optimisers\n",
    "\n",
    "| Optimizer           | Scope(local/Global optimizer)|Objective Function Value| Number of Evaluations|Number of Iterations| Observations             |\n",
    "|---------------------|------------------------------|------------------------|----------------------|--------------------|--------------------------|\n",
    "|Dual Annealing       | Global                        | 53.54144153462606      | 6437                  | 1000          |   Achieves the best objective function value indicating a global optimum but requires the highest number of evaluations, making it less efficient computationally.    |\n",
    "|DifferntialEvolution               | Global                       | 53.54938461678095     | 2012            | 43                  |    Provides a near-optimal solution with significantly fewer evaluations compared to Dual Annealing, making it a more computationally efficient global optimizer.  |\n",
    "|Nelder Mead | local                       | 53.54144061205875     | 169                 | 93                 |    Achieves a near-optimal solution with the fewest evaluations, indicating high efficiency as a local optimizer.|\n",
    "|L-BFGS-B | local                       | 53.54144117175894     | 188                 | 28                 |  Quickly converges to a local optimum with a low number of evaluations and the fewest iterations , highlighting its efficiency in finding local optima.  |\n"
   ]
  },
  {
   "cell_type": "code",
   "execution_count": null,
   "metadata": {},
   "outputs": [],
   "source": []
  },
  {
   "cell_type": "markdown",
   "metadata": {
    "tags": []
   },
   "source": [
    "## Optimization of 2nd Data Frame "
   ]
  },
  {
   "cell_type": "markdown",
   "metadata": {},
   "source": [
    "### Using Global Optimizers"
   ]
  },
  {
   "cell_type": "code",
   "execution_count": 19,
   "metadata": {
    "execution": {
     "iopub.execute_input": "2024-05-27T20:44:58.646993Z",
     "iopub.status.busy": "2024-05-27T20:44:58.645530Z",
     "iopub.status.idle": "2024-05-27T20:44:58.653588Z",
     "shell.execute_reply": "2024-05-27T20:44:58.653141Z",
     "shell.execute_reply.started": "2024-05-27T20:44:58.646972Z"
    },
    "tags": []
   },
   "outputs": [
    {
     "name": "stdout",
     "output_type": "stream",
     "text": [
      "Length of df1: 33\n",
      "Length of df2: 66\n"
     ]
    }
   ],
   "source": [
    "df1 = pd.read_pickle(\"df1.pkl\")\n",
    "df2 = pd.read_pickle(\"df2.pkl\")\n",
    "# Printing the lengths of the DataFrames\n",
    "print(\"Length of df1:\", len(df1))\n",
    "\n",
    "print(\"Length of df2:\", len(df2))"
   ]
  },
  {
   "cell_type": "code",
   "execution_count": 20,
   "metadata": {
    "execution": {
     "iopub.execute_input": "2024-05-27T20:44:58.657749Z",
     "iopub.status.busy": "2024-05-27T20:44:58.656222Z",
     "iopub.status.idle": "2024-05-27T20:44:58.665101Z",
     "shell.execute_reply": "2024-05-27T20:44:58.664610Z",
     "shell.execute_reply.started": "2024-05-27T20:44:58.657726Z"
    },
    "tags": []
   },
   "outputs": [
    {
     "data": {
      "text/plain": [
       "23"
      ]
     },
     "execution_count": 20,
     "metadata": {},
     "output_type": "execute_result"
    }
   ],
   "source": [
    "threshold = 0.4\n",
    "df2.sort_values(\"N\")\n",
    "max_N = max(df2[\"N\"])\n",
    "df2 = df2[df2[\"N\"]>=threshold*max_N]\n",
    "len(df2)"
   ]
  },
  {
   "cell_type": "markdown",
   "metadata": {
    "execution": {
     "iopub.execute_input": "2024-04-06T13:08:38.728971Z",
     "iopub.status.busy": "2024-04-06T13:08:38.728700Z",
     "iopub.status.idle": "2024-04-06T13:08:38.734317Z",
     "shell.execute_reply": "2024-04-06T13:08:38.733318Z",
     "shell.execute_reply.started": "2024-04-06T13:08:38.728947Z"
    },
    "tags": []
   },
   "source": [
    "#### We extract the frequency value for maximum value of the amplitude. This serves as the initial value for one decision variable."
   ]
  },
  {
   "cell_type": "code",
   "execution_count": 21,
   "metadata": {
    "execution": {
     "iopub.execute_input": "2024-05-27T20:44:58.669147Z",
     "iopub.status.busy": "2024-05-27T20:44:58.667588Z",
     "iopub.status.idle": "2024-05-27T20:44:58.673848Z",
     "shell.execute_reply": "2024-05-27T20:44:58.673192Z",
     "shell.execute_reply.started": "2024-05-27T20:44:58.669126Z"
    },
    "tags": []
   },
   "outputs": [],
   "source": [
    "df_max=df2[df2[\"N\"]==max(df2[\"N\"])]\n",
    "initial_Oeig = df_max[\"J\"].values[0]\n",
    "max_N = df_max[\"N\"].values[0]"
   ]
  },
  {
   "cell_type": "markdown",
   "metadata": {},
   "source": [
    "## We also have to define the other two initial guesses"
   ]
  },
  {
   "cell_type": "code",
   "execution_count": 22,
   "metadata": {
    "execution": {
     "iopub.execute_input": "2024-05-27T20:44:58.678049Z",
     "iopub.status.busy": "2024-05-27T20:44:58.676448Z",
     "iopub.status.idle": "2024-05-27T20:44:58.681875Z",
     "shell.execute_reply": "2024-05-27T20:44:58.681123Z",
     "shell.execute_reply.started": "2024-05-27T20:44:58.678029Z"
    },
    "tags": []
   },
   "outputs": [],
   "source": [
    "initial_D = 0.006\n",
    "initial_F = 0.120\n",
    "\n",
    "initial_values = [initial_Oeig, initial_D, initial_F]"
   ]
  },
  {
   "cell_type": "markdown",
   "metadata": {},
   "source": [
    "#### Additionally we define the bounds for the decision variables\n"
   ]
  },
  {
   "cell_type": "code",
   "execution_count": 23,
   "metadata": {
    "execution": {
     "iopub.execute_input": "2024-05-27T20:44:58.686292Z",
     "iopub.status.busy": "2024-05-27T20:44:58.684749Z",
     "iopub.status.idle": "2024-05-27T20:44:58.690279Z",
     "shell.execute_reply": "2024-05-27T20:44:58.689373Z",
     "shell.execute_reply.started": "2024-05-27T20:44:58.686272Z"
    },
    "tags": []
   },
   "outputs": [],
   "source": [
    "min_Oerr = min(df2[\"J\"])\n",
    "max_Oerr = max(df2[\"J\"])"
   ]
  },
  {
   "cell_type": "code",
   "execution_count": 24,
   "metadata": {
    "execution": {
     "iopub.execute_input": "2024-05-27T20:44:58.694709Z",
     "iopub.status.busy": "2024-05-27T20:44:58.693155Z",
     "iopub.status.idle": "2024-05-27T20:44:58.698745Z",
     "shell.execute_reply": "2024-05-27T20:44:58.697827Z",
     "shell.execute_reply.started": "2024-05-27T20:44:58.694686Z"
    },
    "tags": []
   },
   "outputs": [],
   "source": [
    "bounds = [(min_Oerr, max_Oerr), (0, 0.03), (0, 1)]"
   ]
  },
  {
   "cell_type": "markdown",
   "metadata": {},
   "source": [
    "#### Then we define the objective function"
   ]
  },
  {
   "cell_type": "code",
   "execution_count": 25,
   "metadata": {
    "execution": {
     "iopub.execute_input": "2024-05-27T20:44:58.702824Z",
     "iopub.status.busy": "2024-05-27T20:44:58.701294Z",
     "iopub.status.idle": "2024-05-27T20:44:58.707094Z",
     "shell.execute_reply": "2024-05-27T20:44:58.706355Z",
     "shell.execute_reply.started": "2024-05-27T20:44:58.702803Z"
    },
    "tags": []
   },
   "outputs": [],
   "source": [
    "def one_mass_oscillator(params, Oerr) -> np.ndarray:\n",
    "    # returns amplitudes of the system\n",
    "    # Defines the model of a one mass oscilator \n",
    "    Oeig, D, F = params\n",
    "    nue = Oerr / Oeig\n",
    "    V = F / (np.sqrt((1 - nue**2) ** 2 + (4 * D**2 * nue**2)))\n",
    "    return V"
   ]
  },
  {
   "cell_type": "code",
   "execution_count": 26,
   "metadata": {
    "execution": {
     "iopub.execute_input": "2024-05-27T20:44:58.711194Z",
     "iopub.status.busy": "2024-05-27T20:44:58.709638Z",
     "iopub.status.idle": "2024-05-27T20:44:58.715158Z",
     "shell.execute_reply": "2024-05-27T20:44:58.714389Z",
     "shell.execute_reply.started": "2024-05-27T20:44:58.711173Z"
    },
    "tags": []
   },
   "outputs": [],
   "source": [
    "def objective_function(params, Oerr, amplitudes) -> np.ndarray:\n",
    "    # objective function to compare calculated and real amplitudes\n",
    "    return np.sum((amplitudes - one_mass_oscillator(params, Oerr)) ** 2)"
   ]
  },
  {
   "cell_type": "markdown",
   "metadata": {
    "execution": {
     "iopub.execute_input": "2024-04-06T13:13:16.073368Z",
     "iopub.status.busy": "2024-04-06T13:13:16.073138Z",
     "iopub.status.idle": "2024-04-06T13:13:16.078495Z",
     "shell.execute_reply": "2024-04-06T13:13:16.077602Z",
     "shell.execute_reply.started": "2024-04-06T13:13:16.073345Z"
    },
    "tags": []
   },
   "source": [
    "#### We define the options and start the optimization process\n"
   ]
  },
  {
   "cell_type": "code",
   "execution_count": 27,
   "metadata": {
    "execution": {
     "iopub.execute_input": "2024-05-27T20:44:58.719560Z",
     "iopub.status.busy": "2024-05-27T20:44:58.718049Z",
     "iopub.status.idle": "2024-05-27T20:44:58.724115Z",
     "shell.execute_reply": "2024-05-27T20:44:58.723381Z",
     "shell.execute_reply.started": "2024-05-27T20:44:58.719539Z"
    },
    "tags": []
   },
   "outputs": [],
   "source": [
    "options = {\n",
    "    \"maxfun\": 100000,\n",
    "    \"ftol\": 1e-9,\n",
    "    \"xtol\": 1e-9,\n",
    "    \"stepmx\": 10,\n",
    "    \"eta\": 0.25,\n",
    "    \"gtol\": 1e-5}\n",
    "J = np.array(df2[\"J\"]) # measured frequency\n",
    "N = np.array(df2[\"N\"]) # measured amplitude"
   ]
  },
  {
   "cell_type": "code",
   "execution_count": 28,
   "metadata": {
    "execution": {
     "iopub.execute_input": "2024-05-27T20:44:58.730077Z",
     "iopub.status.busy": "2024-05-27T20:44:58.728472Z",
     "iopub.status.idle": "2024-05-27T20:44:58.747991Z",
     "shell.execute_reply": "2024-05-27T20:44:58.747326Z",
     "shell.execute_reply.started": "2024-05-27T20:44:58.730056Z"
    },
    "tags": []
   },
   "outputs": [
    {
     "name": "stderr",
     "output_type": "stream",
     "text": [
      "/tmp/ipykernel_1193528/2959858538.py:1: OptimizeWarning: Unknown solver options: maxfun, ftol, xtol, stepmx, eta, gtol\n",
      "  result = minimize(\n"
     ]
    }
   ],
   "source": [
    "result = minimize(\n",
    "    objective_function,\n",
    "    initial_values,\n",
    "    args=(J, N),\n",
    "    method='Nelder-Mead',\n",
    "    bounds=bounds,\n",
    "    options=options)\n"
   ]
  },
  {
   "cell_type": "code",
   "execution_count": 29,
   "metadata": {
    "execution": {
     "iopub.execute_input": "2024-05-27T20:44:58.752094Z",
     "iopub.status.busy": "2024-05-27T20:44:58.750530Z",
     "iopub.status.idle": "2024-05-27T20:44:58.760058Z",
     "shell.execute_reply": "2024-05-27T20:44:58.759555Z",
     "shell.execute_reply.started": "2024-05-27T20:44:58.752074Z"
    },
    "tags": []
   },
   "outputs": [
    {
     "data": {
      "text/plain": [
       "       message: Optimization terminated successfully.\n",
       "       success: True\n",
       "        status: 0\n",
       "           fun: 229.4092648339145\n",
       "             x: [ 8.147e+03  1.099e-03  7.021e-02]\n",
       "           nit: 135\n",
       "          nfev: 239\n",
       " final_simplex: (array([[ 8.147e+03,  1.099e-03,  7.021e-02],\n",
       "                       [ 8.147e+03,  1.099e-03,  7.021e-02],\n",
       "                       [ 8.147e+03,  1.099e-03,  7.021e-02],\n",
       "                       [ 8.147e+03,  1.099e-03,  7.021e-02]]), array([ 2.294e+02,  2.294e+02,  2.294e+02,  2.294e+02]))"
      ]
     },
     "execution_count": 29,
     "metadata": {},
     "output_type": "execute_result"
    }
   ],
   "source": [
    "# map optimized values to variables\n",
    "resonant_frequency = result.x[0]\n",
    "D = result.x[1]\n",
    "F = result.x[2]\n",
    "# predict the resonant amplitude with the fitted one mass oscillator.\n",
    "X_pred = np.linspace(min_Oerr, max_Oerr, 1000)\n",
    "ypred_one_mass_oscillator = one_mass_oscillator(result.x, X_pred)\n",
    "resonant_amplitude = max(ypred_one_mass_oscillator)\n",
    "result"
   ]
  },
  {
   "cell_type": "markdown",
   "metadata": {},
   "source": [
    "#### Using Dual Annealing"
   ]
  },
  {
   "cell_type": "code",
   "execution_count": 30,
   "metadata": {
    "execution": {
     "iopub.execute_input": "2024-05-27T20:44:58.764147Z",
     "iopub.status.busy": "2024-05-27T20:44:58.762588Z",
     "iopub.status.idle": "2024-05-27T20:44:59.428122Z",
     "shell.execute_reply": "2024-05-27T20:44:59.427505Z",
     "shell.execute_reply.started": "2024-05-27T20:44:58.764128Z"
    },
    "tags": []
   },
   "outputs": [
    {
     "data": {
      "image/png": "[encoded data removed]",
      "text/plain": [
       "<Figure size 640x480 with 1 Axes>"
      ]
     },
     "metadata": {},
     "output_type": "display_data"
    },
    {
     "name": "stdout",
     "output_type": "stream",
     "text": [
      "Optimized Parameters:\n",
      "Resonant Frequency: 8146.746051852071\n",
      "Damping Coefficient: 0.0010989248372497854\n",
      "Force Amplitude: 0.07020956698446057\n",
      "Resonant Amplitude: 31.94467402394625\n",
      "Objective Function Value: 229.4092694161751\n"
     ]
    },
    {
     "data": {
      "text/plain": [
       " message: ['Maximum number of iteration reached']\n",
       " success: True\n",
       "  status: 0\n",
       "     fun: 229.4092694161751\n",
       "       x: [ 8.147e+03  1.099e-03  7.020e-02]\n",
       "     nit: 1000\n",
       "    nfev: 6181\n",
       "    njev: 45\n",
       "    nhev: 0"
      ]
     },
     "execution_count": 30,
     "metadata": {},
     "output_type": "execute_result"
    }
   ],
   "source": [
    "result = dual_annealing(\n",
    "    objective_function,\n",
    "    bounds=bounds,\n",
    "    args=(J, N),\n",
    "    maxiter=1000,  # Maximum number of iterations\n",
    "    seed=123,  # Seed for reproducibility\n",
    ")\n",
    "\n",
    "# Plotting\n",
    "plt.scatter(\n",
    "    df2[\"J\"],\n",
    "    df2[\"N\"],\n",
    "    color=\"black\",\n",
    "    label=\"Spektralpunkte filtered\",\n",
    "    zorder=5,\n",
    "    s=10,\n",
    ")\n",
    "# color the max amplitude point red\n",
    "plt.scatter(\n",
    "    initial_Oeig,\n",
    "    max_N,\n",
    "    color=\"red\",\n",
    "    label=\"Max Amplitude\",\n",
    "    zorder=5,\n",
    "    s=10,\n",
    ")\n",
    "\n",
    "plt.plot(\n",
    "    X_pred,\n",
    "    ypred_one_mass_oscillator,\n",
    "    label=\"Alpha\",\n",
    "    color=\"blue\",\n",
    "    linewidth=1,\n",
    ")\n",
    "plt.scatter(\n",
    "    resonant_frequency,\n",
    "    resonant_amplitude,\n",
    "    color=\"blue\",\n",
    "    label=\"Max Curve Fit\",\n",
    "    zorder=10,\n",
    "    s=20,\n",
    ")\n",
    "\n",
    "plt.legend()\n",
    "plt.xlabel(\"Frequency\")\n",
    "plt.ylabel(\"Amplitude\")\n",
    "plt.title(\"Dual Annealing Optimization\")\n",
    "plt.show()\n",
    "\n",
    "print(\"Optimized Parameters:\")\n",
    "print(f\"Resonant Frequency: {resonant_frequency}\")\n",
    "print(f\"Damping Coefficient: {D}\")\n",
    "print(f\"Force Amplitude: {F}\")\n",
    "print(f\"Resonant Amplitude: {resonant_amplitude}\")\n",
    "print(f\"Objective Function Value: {result.fun}\")\n",
    "result"
   ]
  },
  {
   "cell_type": "markdown",
   "metadata": {},
   "source": [
    "#### Using Differencial Evolution"
   ]
  },
  {
   "cell_type": "code",
   "execution_count": 31,
   "metadata": {
    "execution": {
     "iopub.execute_input": "2024-05-27T20:44:59.432070Z",
     "iopub.status.busy": "2024-05-27T20:44:59.430603Z",
     "iopub.status.idle": "2024-05-27T20:44:59.897013Z",
     "shell.execute_reply": "2024-05-27T20:44:59.896398Z",
     "shell.execute_reply.started": "2024-05-27T20:44:59.432049Z"
    },
    "tags": []
   },
   "outputs": [
    {
     "data": {
      "image/png": "[encoded data removed]",
      "text/plain": [
       "<Figure size 640x480 with 1 Axes>"
      ]
     },
     "metadata": {},
     "output_type": "display_data"
    },
    {
     "name": "stdout",
     "output_type": "stream",
     "text": [
      "Optimized Parameters:\n",
      "Resonant Frequency: 8146.746051852071\n",
      "Damping Coefficient: 0.0010989248372497854\n",
      "Force Amplitude: 0.07020956698446057\n",
      "Resonant Amplitude: 31.94467402394625\n",
      "Objective Function Value: 229.4192718479083\n"
     ]
    },
    {
     "data": {
      "text/plain": [
       "             message: Optimization terminated successfully.\n",
       "             success: True\n",
       "                 fun: 229.4192718479083\n",
       "                   x: [ 8.147e+03  1.101e-03  7.035e-02]\n",
       "                 nit: 37\n",
       "                nfev: 1778\n",
       "          population: [[ 8.147e+03  1.102e-03  7.043e-02]\n",
       "                       [ 8.147e+03  1.109e-03  7.042e-02]\n",
       "                       ...\n",
       "                       [ 8.147e+03  1.178e-03  7.560e-02]\n",
       "                       [ 8.147e+03  1.097e-03  7.063e-02]]\n",
       " population_energies: [ 2.294e+02  2.299e+02 ...  2.351e+02  2.303e+02]\n",
       "                 jac: [ 7.201e-01 -1.267e+00 -4.011e+00]"
      ]
     },
     "execution_count": 31,
     "metadata": {},
     "output_type": "execute_result"
    }
   ],
   "source": [
    "result = differential_evolution(\n",
    "    objective_function,\n",
    "    bounds=bounds,  # Define bounds for each parameter\n",
    "    args=(J, N),\n",
    "    maxiter=1000,  # Maximum number of iterations\n",
    "    seed=123,  # Seed for reproducibility\n",
    ")\n",
    "\n",
    "# Plotting\n",
    "plt.scatter(\n",
    "    df2[\"J\"],\n",
    "    df2[\"N\"],\n",
    "    color=\"black\",\n",
    "    label=\"Spektralpunkte filtered\",\n",
    "    zorder=5,\n",
    "    s=10,\n",
    ")\n",
    "# color the max amplitude point red\n",
    "plt.scatter(\n",
    "    initial_Oeig,\n",
    "    max_N,\n",
    "    color=\"red\",\n",
    "    label=\"Max Amplitude\",\n",
    "    zorder=5,\n",
    "    s=10,\n",
    ")\n",
    "\n",
    "plt.plot(\n",
    "    X_pred,\n",
    "    ypred_one_mass_oscillator,\n",
    "    label=\"Alpha\",\n",
    "    color=\"blue\",\n",
    "    linewidth=1,\n",
    ")\n",
    "plt.scatter(\n",
    "    resonant_frequency,\n",
    "    resonant_amplitude,\n",
    "    color=\"blue\",\n",
    "    label=\"Max Curve Fit\",\n",
    "    zorder=10,\n",
    "    s=20,\n",
    ")\n",
    "\n",
    "plt.legend()\n",
    "plt.xlabel(\"Frequency\")\n",
    "plt.ylabel(\"Amplitude\")\n",
    "plt.title(\"Differential Evolution Optimization\")\n",
    "plt.show()\n",
    "\n",
    "print(\"Optimized Parameters:\")\n",
    "print(f\"Resonant Frequency: {resonant_frequency}\")\n",
    "print(f\"Damping Coefficient: {D}\")\n",
    "print(f\"Force Amplitude: {F}\")\n",
    "print(f\"Resonant Amplitude: {resonant_amplitude}\")\n",
    "print(f\"Objective Function Value: {result.fun}\")\n",
    "result"
   ]
  },
  {
   "cell_type": "markdown",
   "metadata": {},
   "source": [
    "### Using Local Optimizers"
   ]
  },
  {
   "cell_type": "markdown",
   "metadata": {},
   "source": [
    "#### Using BFGS\n"
   ]
  },
  {
   "cell_type": "code",
   "execution_count": 32,
   "metadata": {
    "execution": {
     "iopub.execute_input": "2024-05-27T20:44:59.900978Z",
     "iopub.status.busy": "2024-05-27T20:44:59.899522Z",
     "iopub.status.idle": "2024-05-27T20:45:00.182781Z",
     "shell.execute_reply": "2024-05-27T20:45:00.182211Z",
     "shell.execute_reply.started": "2024-05-27T20:44:59.900957Z"
    },
    "tags": []
   },
   "outputs": [
    {
     "name": "stderr",
     "output_type": "stream",
     "text": [
      "/tmp/ipykernel_1193528/2860355532.py:1: OptimizeWarning: Unknown solver options: xtol, stepmx, eta\n",
      "  result = minimize(\n"
     ]
    },
    {
     "data": {
      "image/png": "[encoded data removed]",
      "text/plain": [
       "<Figure size 640x480 with 1 Axes>"
      ]
     },
     "metadata": {},
     "output_type": "display_data"
    },
    {
     "name": "stdout",
     "output_type": "stream",
     "text": [
      "Optimized Parameters:\n",
      "Resonant Frequency: 8146.746051852071\n",
      "Damping Coefficient: 0.0010989248372497854\n",
      "Force Amplitude: 0.07020956698446057\n",
      "Resonant Amplitude: 31.94467402394625\n",
      "Objective Function Value: 229.4092692624839\n"
     ]
    },
    {
     "data": {
      "text/plain": [
       "  message: CONVERGENCE: REL_REDUCTION_OF_F_<=_FACTR*EPSMCH\n",
       "  success: True\n",
       "   status: 0\n",
       "      fun: 229.4092692624839\n",
       "        x: [ 8.147e+03  1.099e-03  7.020e-02]\n",
       "      nit: 20\n",
       "      jac: [ 1.154e-03  8.419e+00 -1.765e-01]\n",
       "     nfev: 180\n",
       "     njev: 45\n",
       " hess_inv: <3x3 LbfgsInvHessProduct with dtype=float64>"
      ]
     },
     "execution_count": 32,
     "metadata": {},
     "output_type": "execute_result"
    }
   ],
   "source": [
    "result = minimize(\n",
    "    objective_function,\n",
    "    initial_values,\n",
    "    args=(J, N),\n",
    "    bounds=bounds,\n",
    "    options=options)\n",
    "result\n",
    "# Plotting\n",
    "plt.scatter(\n",
    "    df2[\"J\"],\n",
    "    df2[\"N\"],\n",
    "    color=\"black\",\n",
    "    label=\"Spektralpunkte filtered\",\n",
    "    zorder=5,\n",
    "    s=10,\n",
    ")\n",
    "# color the max amplitude point red\n",
    "plt.scatter(\n",
    "    initial_Oeig,\n",
    "    max_N,\n",
    "    color=\"red\",\n",
    "    label=\"Max Amplitude\",\n",
    "    zorder=5,\n",
    "    s=10,\n",
    ")\n",
    "\n",
    "plt.plot(\n",
    "    X_pred,\n",
    "    ypred_one_mass_oscillator,\n",
    "    label=\"Alpha\",\n",
    "    color=\"blue\",\n",
    "    linewidth=1,\n",
    ")\n",
    "plt.scatter(\n",
    "    resonant_frequency,\n",
    "    resonant_amplitude,\n",
    "    color=\"blue\",\n",
    "    label=\"Max Curve Fit\",\n",
    "    zorder=10,\n",
    "    s=20,\n",
    ")\n",
    "\n",
    "plt.legend()\n",
    "plt.xlabel(\"Frequency\")\n",
    "plt.ylabel(\"Amplitude\")\n",
    "plt.title(\"BFGS Optimization\")\n",
    "plt.show()\n",
    "\n",
    "print(\"Optimized Parameters:\")\n",
    "print(f\"Resonant Frequency: {resonant_frequency}\")\n",
    "print(f\"Damping Coefficient: {D}\")\n",
    "print(f\"Force Amplitude: {F}\")\n",
    "print(f\"Resonant Amplitude: {resonant_amplitude}\")\n",
    "print(f\"Objective Function Value: {result.fun}\")\n",
    "result\n"
   ]
  },
  {
   "cell_type": "markdown",
   "metadata": {},
   "source": [
    "### Comparision of different Optimisers\n",
    "\n",
    "| Optimizer           | Scope(local/Global optimizer)|Objective Function Value| Number of Evaluations|Number of Iterations| Observations             |\n",
    "|---------------------|------------------------------|------------------------|----------------------|--------------------|--------------------------|\n",
    "|Dual Annealing       | Global                        | 229.4092694161751      | 6181                  | 1000          |  Finds the optimal solution with the highest number of evaluations and iterations.    |\n",
    "|DifferntialEvolution               | Global                       | 229.4192718479083     | 1778              | 37                  |  Achieves a near-optimal solution with fewer evaluations and iterations compared to dual annealing.|\n",
    "|Nelder Mead       | Local                       | 229.4092648339145      | 239                 | 135               |  Efficiently converges to a near-optimal solution with minimal evaluations and iterations. |\n",
    "|L-BFGS-B| local                       | 229.4092692624839      | 180                 | 45                 |   Quickly reaches the optimal solution with the least number of evaluations and a moderate number of iterations.|\n",
    "\n",
    "### Conclusion\n",
    "The selection of an optimizer depends on the specific requirements of the problem at hand:\n",
    "\n",
    "For Global Optimization: Dual Annealing achieves the best global optimum but is computationally expensive, while Differential Evolution provides a good balance between                                solution quality and computational efficiency.\n",
    "\n",
    "For Local Optimization: Nelder-Mead is highly efficient in terms of evaluations, making it suitable for scenarios where computational resources are limited. L-BFGS-B is the                           fastest in terms of iterations, making it ideal for problems where quick convergence is critical.\n",
    "\n",
    "The selection of an optimizer depends on the specific requirements of the problem."
   ]
  },
  {
   "cell_type": "code",
   "execution_count": null,
   "metadata": {},
   "outputs": [],
   "source": []
  }
 ],
 "metadata": {
  "kernelspec": {
   "display_name": "Python 3.11 / spotPython",
   "language": "python",
   "name": "py311-pyspotseven"
  },
  "language_info": {
   "codemirror_mode": {
    "name": "ipython",
    "version": 3
   },
   "file_extension": ".py",
   "mimetype": "text/x-python",
   "name": "python",
   "nbconvert_exporter": "python",
   "pygments_lexer": "ipython3",
   "version": "3.11.8"
  }
 },
 "nbformat": 4,
 "nbformat_minor": 4
}
